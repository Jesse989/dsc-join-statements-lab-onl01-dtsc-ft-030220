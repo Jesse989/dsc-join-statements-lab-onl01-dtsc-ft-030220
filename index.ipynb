{
 "cells": [
  {
   "cell_type": "markdown",
   "metadata": {},
   "source": [
    "# Join Statements - Lab\n",
    "\n",
    "## Introduction\n",
    "\n",
    "In this lab, you'll practice your knowledge of `JOIN` statements, using various types of joins and various methods for specifying the links between them.\n",
    "\n",
    "## Objectives\n",
    "\n",
    "You will be able to:\n",
    "* Write SQL queries that make use of various types of joins\n",
    "* Compare and contrast the various types of joins\n",
    "* Discuss how primary and foreign keys are used in SQL\n",
    "* Decide and perform whichever type of join is best for retrieving desired data"
   ]
  },
  {
   "cell_type": "markdown",
   "metadata": {},
   "source": [
    "## CRM Schema\n",
    "\n",
    "In almost all cases, rather than just working with a single table you will typically need data from multiple tables. \n",
    "Doing this requires the use of **joins** using shared columns from the two tables. \n",
    "\n",
    "In this lab, you'll use the same customer relationship management (CRM) database that you saw from the previous lesson.\n",
    "<img src='images/Database-Schema.png' width=\"600\">"
   ]
  },
  {
   "cell_type": "markdown",
   "metadata": {},
   "source": [
    "## Connecting to the Database\n",
    "Import the necessary packages and connect to the database `'data.sqlite'`."
   ]
  },
  {
   "cell_type": "code",
   "execution_count": 1,
   "metadata": {},
   "outputs": [],
   "source": [
    "# Your code here\n",
    "import sqlite3\n",
    "import pandas as pd\n",
    "conn = sqlite3.connect('data.sqlite')\n",
    "cur = conn.cursor()"
   ]
  },
  {
   "cell_type": "markdown",
   "metadata": {},
   "source": [
    "## Display the names of all the employees in Boston \n",
    "\n",
    "Hint: join the employees and offices tables."
   ]
  },
  {
   "cell_type": "code",
   "execution_count": 3,
   "metadata": {},
   "outputs": [
    {
     "data": {
      "text/plain": [
       "[('Firrelli', 'Julie'), ('Patterson', 'Steve')]"
      ]
     },
     "execution_count": 3,
     "metadata": {},
     "output_type": "execute_result"
    }
   ],
   "source": [
    "# Your code here\n",
    "q = \"\"\"SELECT lastName, firstName FROM employees JOIN offices USING (officeCode) WHERE city = 'Boston'\"\"\"\n",
    "cur.execute(q).fetchall()"
   ]
  },
  {
   "cell_type": "markdown",
   "metadata": {},
   "source": [
    "## Are there any offices that have zero employees?\n",
    "Hint: Combine the employees and offices tables and use a group by."
   ]
  },
  {
   "cell_type": "code",
   "execution_count": 12,
   "metadata": {},
   "outputs": [
    {
     "data": {
      "text/plain": [
       "[('Boston', 2), ('NYC', 2), ('Tokyo', 2), ('Sydney', 4), ('London', 2)]"
      ]
     },
     "execution_count": 12,
     "metadata": {},
     "output_type": "execute_result"
    }
   ],
   "source": [
    "# Your code here\n",
    "q = \"\"\"\n",
    "    SELECT city, COUNT(officeCode) AS office_with_zero_employees\n",
    "    FROM employees\n",
    "    JOIN offices\n",
    "    USING(officeCode)\n",
    "    GROUP BY officeCode\n",
    "    HAVING COUNT(employeeNumber) < 5\n",
    "\"\"\"\n",
    "cur.execute(q).fetchall()"
   ]
  },
  {
   "cell_type": "markdown",
   "metadata": {},
   "source": [
    "## Write 3 Questions of your own and answer them"
   ]
  },
  {
   "cell_type": "code",
   "execution_count": 21,
   "metadata": {},
   "outputs": [
    {
     "data": {
      "text/html": [
       "<div>\n",
       "<style scoped>\n",
       "    .dataframe tbody tr th:only-of-type {\n",
       "        vertical-align: middle;\n",
       "    }\n",
       "\n",
       "    .dataframe tbody tr th {\n",
       "        vertical-align: top;\n",
       "    }\n",
       "\n",
       "    .dataframe thead th {\n",
       "        text-align: right;\n",
       "    }\n",
       "</style>\n",
       "<table border=\"1\" class=\"dataframe\">\n",
       "  <thead>\n",
       "    <tr style=\"text-align: right;\">\n",
       "      <th></th>\n",
       "      <th>employeeNumber</th>\n",
       "      <th>lastName</th>\n",
       "      <th>firstName</th>\n",
       "      <th>extension</th>\n",
       "      <th>email</th>\n",
       "      <th>officeCode</th>\n",
       "      <th>reportsTo</th>\n",
       "      <th>jobTitle</th>\n",
       "      <th>customerNumber</th>\n",
       "      <th>customerName</th>\n",
       "      <th>...</th>\n",
       "      <th>productScale</th>\n",
       "      <th>productVendor</th>\n",
       "      <th>productDescription</th>\n",
       "      <th>quantityInStock</th>\n",
       "      <th>buyPrice</th>\n",
       "      <th>MSRP</th>\n",
       "      <th>productLine</th>\n",
       "      <th>textDescription</th>\n",
       "      <th>htmlDescription</th>\n",
       "      <th>image</th>\n",
       "    </tr>\n",
       "  </thead>\n",
       "  <tbody>\n",
       "  </tbody>\n",
       "</table>\n",
       "<p>0 rows × 46 columns</p>\n",
       "</div>"
      ],
      "text/plain": [
       "Empty DataFrame\n",
       "Columns: [employeeNumber, lastName, firstName, extension, email, officeCode, reportsTo, jobTitle, customerNumber, customerName, contactLastName, contactFirstName, phone, addressLine1, addressLine2, city, state, postalCode, country, salesRepEmployeeNumber, creditLimit, orderNumber, orderDate, requiredDate, shippedDate, status, comments, customerNumber, orderNumber, productCode, quantityOrdered, priceEach, orderLineNumber, productCode, productName, productLine, productScale, productVendor, productDescription, quantityInStock, buyPrice, MSRP, productLine, textDescription, htmlDescription, image]\n",
       "Index: []\n",
       "\n",
       "[0 rows x 46 columns]"
      ]
     },
     "execution_count": 21,
     "metadata": {},
     "output_type": "execute_result"
    }
   ],
   "source": [
    "# Answers will vary\n",
    "# Example: Display the htmlDescription and employee's first and last name for each product that each employee has sold\n",
    "q = '''\n",
    "    SELECT *\n",
    "    FROM employees e\n",
    "    JOIN customers c ON c.salesRepEmployeeNumber = e.employeeNumber\n",
    "    JOIN orders o ON o.customerNumber = c.customerNumber\n",
    "    JOIN orderDetails od ON od.orderNumber = o.orderNumber\n",
    "    JOIN products p ON p.productCode = od.productCode\n",
    "    JOIN productLines pl ON p.productLine = pl.productLine\n",
    "    LIMIT 5\n",
    "'''\n",
    "cur.execute(q)\n",
    "df = pd.DataFrame(cur.fetchall())\n",
    "df.columns = [ i[0] for i in cur.description ]\n",
    "df.loc[df['htmlDescription'] != '']"
   ]
  },
  {
   "cell_type": "code",
   "execution_count": null,
   "metadata": {},
   "outputs": [],
   "source": [
    "# Your code here"
   ]
  },
  {
   "cell_type": "code",
   "execution_count": null,
   "metadata": {},
   "outputs": [],
   "source": [
    "# Your code here"
   ]
  },
  {
   "cell_type": "code",
   "execution_count": null,
   "metadata": {},
   "outputs": [],
   "source": [
    "# Your code here"
   ]
  },
  {
   "cell_type": "markdown",
   "metadata": {},
   "source": [
    "## Level Up: Display the names of every individual product that each employee has sold"
   ]
  },
  {
   "cell_type": "markdown",
   "metadata": {},
   "source": [
    "In pandas:"
   ]
  },
  {
   "cell_type": "code",
   "execution_count": 165,
   "metadata": {},
   "outputs": [
    {
     "data": {
      "text/plain": [
       "firstName  lastName   productName                        \n",
       "Andy       Fixter     1913 Ford Model T Speedster            6\n",
       "                      1940 Ford Pickup Truck                 5\n",
       "                      1958 Setra Bus                         5\n",
       "                      18th Century Vintage Horse Carriage    4\n",
       "                      1928 Mercedes-Benz SSK                 4\n",
       "                                                            ..\n",
       "Steve      Patterson  Diamond T620 Semi-Skirted Tanker       1\n",
       "                      HMS Bounty                             1\n",
       "                      P-51-D Mustang                         1\n",
       "                      Pont Yacht                             1\n",
       "                      The Queen Mary                         1\n",
       "Name: productName, Length: 1368, dtype: int64"
      ]
     },
     "execution_count": 165,
     "metadata": {},
     "output_type": "execute_result"
    }
   ],
   "source": [
    "q = '''\n",
    "    SELECT p.productName, e.firstName, e.lastName\n",
    "    FROM products p\n",
    "    JOIN orderDetails od ON p.productCode = od.productCode\n",
    "    JOIN orders o ON o.orderNumber = od.orderNumber\n",
    "    JOIN customers c ON c.customerNumber = o.customerNumber\n",
    "    JOIN employees e ON e.employeeNumber = c.salesRepEmployeeNumber\n",
    "'''\n",
    "df = pd.DataFrame(cur.execute(q).fetchall())\n",
    "df.columns = [ i[0] for i in cur.description ]\n",
    "grouped = df.groupby(['firstName', 'lastName'])['productName'].value_counts() \n",
    "grouped"
   ]
  },
  {
   "cell_type": "code",
   "execution_count": 169,
   "metadata": {},
   "outputs": [
    {
     "data": {
      "text/html": [
       "<div>\n",
       "<style scoped>\n",
       "    .dataframe tbody tr th:only-of-type {\n",
       "        vertical-align: middle;\n",
       "    }\n",
       "\n",
       "    .dataframe tbody tr th {\n",
       "        vertical-align: top;\n",
       "    }\n",
       "\n",
       "    .dataframe thead th {\n",
       "        text-align: right;\n",
       "    }\n",
       "</style>\n",
       "<table border=\"1\" class=\"dataframe\">\n",
       "  <thead>\n",
       "    <tr style=\"text-align: right;\">\n",
       "      <th></th>\n",
       "      <th>productName</th>\n",
       "      <th>firstName</th>\n",
       "      <th>lastName</th>\n",
       "    </tr>\n",
       "  </thead>\n",
       "  <tbody>\n",
       "    <tr>\n",
       "      <td>0</td>\n",
       "      <td>18th Century Vintage Horse Carriage</td>\n",
       "      <td>Andy</td>\n",
       "      <td>Fixter</td>\n",
       "    </tr>\n",
       "    <tr>\n",
       "      <td>1</td>\n",
       "      <td>1900s Vintage Bi-Plane</td>\n",
       "      <td>Andy</td>\n",
       "      <td>Fixter</td>\n",
       "    </tr>\n",
       "    <tr>\n",
       "      <td>2</td>\n",
       "      <td>1900s Vintage Tri-Plane</td>\n",
       "      <td>Andy</td>\n",
       "      <td>Fixter</td>\n",
       "    </tr>\n",
       "    <tr>\n",
       "      <td>3</td>\n",
       "      <td>1911 Ford Town Car</td>\n",
       "      <td>Andy</td>\n",
       "      <td>Fixter</td>\n",
       "    </tr>\n",
       "    <tr>\n",
       "      <td>4</td>\n",
       "      <td>1913 Ford Model T Speedster</td>\n",
       "      <td>Andy</td>\n",
       "      <td>Fixter</td>\n",
       "    </tr>\n",
       "    <tr>\n",
       "      <td>...</td>\n",
       "      <td>...</td>\n",
       "      <td>...</td>\n",
       "      <td>...</td>\n",
       "    </tr>\n",
       "    <tr>\n",
       "      <td>1363</td>\n",
       "      <td>The Mayflower</td>\n",
       "      <td>Steve</td>\n",
       "      <td>Patterson</td>\n",
       "    </tr>\n",
       "    <tr>\n",
       "      <td>1364</td>\n",
       "      <td>The Queen Mary</td>\n",
       "      <td>Steve</td>\n",
       "      <td>Patterson</td>\n",
       "    </tr>\n",
       "    <tr>\n",
       "      <td>1365</td>\n",
       "      <td>The Schooner Bluenose</td>\n",
       "      <td>Steve</td>\n",
       "      <td>Patterson</td>\n",
       "    </tr>\n",
       "    <tr>\n",
       "      <td>1366</td>\n",
       "      <td>The Titanic</td>\n",
       "      <td>Steve</td>\n",
       "      <td>Patterson</td>\n",
       "    </tr>\n",
       "    <tr>\n",
       "      <td>1367</td>\n",
       "      <td>The USS Constitution Ship</td>\n",
       "      <td>Steve</td>\n",
       "      <td>Patterson</td>\n",
       "    </tr>\n",
       "  </tbody>\n",
       "</table>\n",
       "<p>1368 rows × 3 columns</p>\n",
       "</div>"
      ],
      "text/plain": [
       "                              productName firstName   lastName\n",
       "0     18th Century Vintage Horse Carriage      Andy     Fixter\n",
       "1                  1900s Vintage Bi-Plane      Andy     Fixter\n",
       "2                 1900s Vintage Tri-Plane      Andy     Fixter\n",
       "3                      1911 Ford Town Car      Andy     Fixter\n",
       "4             1913 Ford Model T Speedster      Andy     Fixter\n",
       "...                                   ...       ...        ...\n",
       "1363                        The Mayflower     Steve  Patterson\n",
       "1364                       The Queen Mary     Steve  Patterson\n",
       "1365                The Schooner Bluenose     Steve  Patterson\n",
       "1366                          The Titanic     Steve  Patterson\n",
       "1367            The USS Constitution Ship     Steve  Patterson\n",
       "\n",
       "[1368 rows x 3 columns]"
      ]
     },
     "execution_count": 169,
     "metadata": {},
     "output_type": "execute_result"
    }
   ],
   "source": [
    "q = '''\n",
    "    SELECT p.productName, e.firstName, e.lastName\n",
    "    FROM products p\n",
    "    JOIN orderDetails od ON p.productCode = od.productCode\n",
    "    JOIN orders o ON o.orderNumber = od.orderNumber\n",
    "    JOIN customers c ON c.customerNumber = o.customerNumber\n",
    "    JOIN employees e ON e.employeeNumber = c.salesRepEmployeeNumber\n",
    "    GROUP BY e.firstName, e.lastName, p.productName\n",
    "'''\n",
    "df = pd.DataFrame(cur.execute(q).fetchall())\n",
    "df.columns = [ i[0] for i in cur.description ]\n",
    "df\n",
    "# grouped = df.groupby(['firstName', 'lastName'])['productName'].value_counts() \n",
    "# grouped"
   ]
  },
  {
   "cell_type": "markdown",
   "metadata": {},
   "source": [
    "## Level Up: Display the Number of Products each employee has sold"
   ]
  },
  {
   "cell_type": "code",
   "execution_count": 162,
   "metadata": {},
   "outputs": [
    {
     "data": {
      "text/plain": [
       "employeeNumber  firstName  lastName \n",
       "1370            Gerard     Hernandez    396\n",
       "1165            Leslie     Jennings     331\n",
       "1401            Pamela     Castillo     272\n",
       "1501            Larry      Bott         236\n",
       "1504            Barry      Jones        220\n",
       "1323            George     Vanauf       211\n",
       "1612            Peter      Marsh        185\n",
       "1611            Andy       Fixter       185\n",
       "1337            Loui       Bondur       177\n",
       "1216            Steve      Patterson    152\n",
       "1286            Foon Yue   Tseng        142\n",
       "1621            Mami       Nishi        137\n",
       "1188            Julie      Firrelli     124\n",
       "1702            Martin     Gerard       114\n",
       "1166            Leslie     Thompson     114\n",
       "Name: productName, dtype: int64"
      ]
     },
     "execution_count": 162,
     "metadata": {},
     "output_type": "execute_result"
    }
   ],
   "source": [
    "q = '''\n",
    "    SELECT *\n",
    "    FROM products p\n",
    "    JOIN orderDetails od ON p.productCode = od.productCode\n",
    "    JOIN orders o ON o.orderNumber = od.orderNumber\n",
    "    JOIN customers c ON c.customerNumber = o.customerNumber\n",
    "    JOIN employees e ON e.employeeNumber = c.salesRepEmployeeNumber\n",
    "'''\n",
    "df = pd.DataFrame(cur.execute(q).fetchall())\n",
    "df.columns = [ i[0] for i in cur.description ]\n",
    "df.groupby(['employeeNumber', 'firstName', 'lastName'])['productName'].count().sort_values(ascending=False)"
   ]
  },
  {
   "cell_type": "markdown",
   "metadata": {},
   "source": [
    "In SQL:"
   ]
  },
  {
   "cell_type": "code",
   "execution_count": 161,
   "metadata": {},
   "outputs": [
    {
     "data": {
      "text/html": [
       "<div>\n",
       "<style scoped>\n",
       "    .dataframe tbody tr th:only-of-type {\n",
       "        vertical-align: middle;\n",
       "    }\n",
       "\n",
       "    .dataframe tbody tr th {\n",
       "        vertical-align: top;\n",
       "    }\n",
       "\n",
       "    .dataframe thead th {\n",
       "        text-align: right;\n",
       "    }\n",
       "</style>\n",
       "<table border=\"1\" class=\"dataframe\">\n",
       "  <thead>\n",
       "    <tr style=\"text-align: right;\">\n",
       "      <th></th>\n",
       "      <th>product_count</th>\n",
       "      <th>firstName</th>\n",
       "      <th>lastName</th>\n",
       "    </tr>\n",
       "  </thead>\n",
       "  <tbody>\n",
       "    <tr>\n",
       "      <td>0</td>\n",
       "      <td>396</td>\n",
       "      <td>Gerard</td>\n",
       "      <td>Hernandez</td>\n",
       "    </tr>\n",
       "    <tr>\n",
       "      <td>1</td>\n",
       "      <td>331</td>\n",
       "      <td>Leslie</td>\n",
       "      <td>Jennings</td>\n",
       "    </tr>\n",
       "    <tr>\n",
       "      <td>2</td>\n",
       "      <td>272</td>\n",
       "      <td>Pamela</td>\n",
       "      <td>Castillo</td>\n",
       "    </tr>\n",
       "    <tr>\n",
       "      <td>3</td>\n",
       "      <td>236</td>\n",
       "      <td>Larry</td>\n",
       "      <td>Bott</td>\n",
       "    </tr>\n",
       "    <tr>\n",
       "      <td>4</td>\n",
       "      <td>220</td>\n",
       "      <td>Barry</td>\n",
       "      <td>Jones</td>\n",
       "    </tr>\n",
       "    <tr>\n",
       "      <td>5</td>\n",
       "      <td>211</td>\n",
       "      <td>George</td>\n",
       "      <td>Vanauf</td>\n",
       "    </tr>\n",
       "    <tr>\n",
       "      <td>6</td>\n",
       "      <td>185</td>\n",
       "      <td>Andy</td>\n",
       "      <td>Fixter</td>\n",
       "    </tr>\n",
       "    <tr>\n",
       "      <td>7</td>\n",
       "      <td>185</td>\n",
       "      <td>Peter</td>\n",
       "      <td>Marsh</td>\n",
       "    </tr>\n",
       "    <tr>\n",
       "      <td>8</td>\n",
       "      <td>177</td>\n",
       "      <td>Loui</td>\n",
       "      <td>Bondur</td>\n",
       "    </tr>\n",
       "    <tr>\n",
       "      <td>9</td>\n",
       "      <td>152</td>\n",
       "      <td>Steve</td>\n",
       "      <td>Patterson</td>\n",
       "    </tr>\n",
       "    <tr>\n",
       "      <td>10</td>\n",
       "      <td>142</td>\n",
       "      <td>Foon Yue</td>\n",
       "      <td>Tseng</td>\n",
       "    </tr>\n",
       "    <tr>\n",
       "      <td>11</td>\n",
       "      <td>137</td>\n",
       "      <td>Mami</td>\n",
       "      <td>Nishi</td>\n",
       "    </tr>\n",
       "    <tr>\n",
       "      <td>12</td>\n",
       "      <td>124</td>\n",
       "      <td>Julie</td>\n",
       "      <td>Firrelli</td>\n",
       "    </tr>\n",
       "    <tr>\n",
       "      <td>13</td>\n",
       "      <td>114</td>\n",
       "      <td>Leslie</td>\n",
       "      <td>Thompson</td>\n",
       "    </tr>\n",
       "    <tr>\n",
       "      <td>14</td>\n",
       "      <td>114</td>\n",
       "      <td>Martin</td>\n",
       "      <td>Gerard</td>\n",
       "    </tr>\n",
       "  </tbody>\n",
       "</table>\n",
       "</div>"
      ],
      "text/plain": [
       "    product_count firstName   lastName\n",
       "0             396    Gerard  Hernandez\n",
       "1             331    Leslie   Jennings\n",
       "2             272    Pamela   Castillo\n",
       "3             236     Larry       Bott\n",
       "4             220     Barry      Jones\n",
       "5             211    George     Vanauf\n",
       "6             185      Andy     Fixter\n",
       "7             185     Peter      Marsh\n",
       "8             177      Loui     Bondur\n",
       "9             152     Steve  Patterson\n",
       "10            142  Foon Yue      Tseng\n",
       "11            137      Mami      Nishi\n",
       "12            124     Julie   Firrelli\n",
       "13            114    Leslie   Thompson\n",
       "14            114    Martin     Gerard"
      ]
     },
     "execution_count": 161,
     "metadata": {},
     "output_type": "execute_result"
    }
   ],
   "source": [
    "q = '''\n",
    "    SELECT COUNT(productName) as product_count, e.firstName, e.lastName\n",
    "    FROM products p\n",
    "    JOIN orderDetails od ON p.productCode = od.productCode\n",
    "    JOIN orders o ON o.orderNumber = od.orderNumber\n",
    "    JOIN customers c ON c.customerNumber = o.customerNumber\n",
    "    JOIN employees e ON e.employeeNumber = c.salesRepEmployeeNumber\n",
    "    GROUP BY e.firstName, e.lastName\n",
    "    ORDER BY product_count DESC\n",
    "'''\n",
    "df = pd.DataFrame(cur.execute(q).fetchall())\n",
    "df.columns = [ i[0] for i in cur.description ]\n",
    "df"
   ]
  },
  {
   "cell_type": "markdown",
   "metadata": {},
   "source": [
    "## Summary"
   ]
  },
  {
   "cell_type": "markdown",
   "metadata": {},
   "source": [
    "Congrats! You practiced using join statements and leveraged your foreign keys knowledge!"
   ]
  }
 ],
 "metadata": {
  "kernelspec": {
   "display_name": "Python 3",
   "language": "python",
   "name": "python3"
  },
  "language_info": {
   "codemirror_mode": {
    "name": "ipython",
    "version": 3
   },
   "file_extension": ".py",
   "mimetype": "text/x-python",
   "name": "python",
   "nbconvert_exporter": "python",
   "pygments_lexer": "ipython3",
   "version": "3.6.9"
  },
  "toc": {
   "base_numbering": 1,
   "nav_menu": {},
   "number_sections": true,
   "sideBar": true,
   "skip_h1_title": false,
   "title_cell": "Table of Contents",
   "title_sidebar": "Contents",
   "toc_cell": false,
   "toc_position": {},
   "toc_section_display": true,
   "toc_window_display": false
  }
 },
 "nbformat": 4,
 "nbformat_minor": 2
}
